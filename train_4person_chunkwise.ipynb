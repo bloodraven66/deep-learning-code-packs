{
 "cells": [
  {
   "cell_type": "code",
   "execution_count": null,
   "metadata": {},
   "outputs": [],
   "source": [
    "%matplotlib inline\n",
    "import os\n",
    "from tqdm import tqdm_notebook as tqdm\n",
    "import pandas as pd\n",
    "import librosa\n",
    "import numpy as np\n",
    "import matplotlib.pyplot as plt\n",
    "from scipy.io import wavfile\n",
    "from python_speech_features import mfcc, logfbank\n",
    "import torch\n",
    "import random\n",
    "from python_speech_features import mfcc\n",
    "import torch.nn as nn\n",
    "from torch.autograd import Variable\n",
    "from numpy import array\n",
    "from matplotlib import pyplot as plt\n",
    "import torch.nn.functional as F\n",
    "from IPython.display import clear_output"
   ]
  },
  {
   "cell_type": "code",
   "execution_count": 117,
   "metadata": {},
   "outputs": [],
   "source": [
    "class Config:\n",
    "    def __init__(self, nfilt = 26, nfeat = 13, nfft = 2205, rate = 22050):\n",
    "        self.nfeat = nfeat\n",
    "        self.rate = rate\n",
    "        self.nfilt = nfilt\n",
    "        self.nfft = nfft\n",
    "        self.classes = ['sathvik', 'merril', 'varun', 'kartik']\n",
    "        self.val_files = ['kartik10.wav', 'kartik13.wav', 'merril10.wav', 'merril12.wav', 'sathvik20.wav', \n",
    "                          'sathvik22.wav', 'varun21.wav', 'varun22.wav']\n",
    "        self.envelope_threshold = 0.04\n",
    "        self.cuda = True\n",
    "        self.no_cuda = False\n",
    "        self.seed = 1\n",
    "        self.epochs = 30\n",
    "        self.lr = 0.0001\n",
    "config = Config()\n",
    "\n",
    "config.cuda = not config.no_cuda and torch.cuda.is_available()\n",
    "torch.manual_seed(config.seed)\n",
    "if config.cuda:\n",
    "    torch.cuda.manual_seed(config.seed)\n",
    "kwargs = {'num_workers': 1, 'pin_memory': True} if config.cuda else {}"
   ]
  },
  {
   "cell_type": "code",
   "execution_count": 118,
   "metadata": {},
   "outputs": [],
   "source": [
    "def envelope(y, rate, threshold):\n",
    "    mask = []\n",
    "    y = pd.Series(y).apply(np.abs)\n",
    "    y_mean = y.rolling(window = int(rate/10), min_periods = 1, center =True).mean()\n",
    "    for mean in y_mean:\n",
    "        if mean> threshold:\n",
    "            mask.append(True)\n",
    "        else:\n",
    "            mask.append(False)\n",
    "    return mask"
   ]
  },
  {
   "cell_type": "code",
   "execution_count": 119,
   "metadata": {},
   "outputs": [],
   "source": [
    "path = '../training_files_male/'"
   ]
  },
  {
   "cell_type": "code",
   "execution_count": 120,
   "metadata": {},
   "outputs": [],
   "source": [
    "def label(file):\n",
    "    for i, name in enumerate(config.classes):\n",
    "        if file.startswith(name):\n",
    "            return [i]"
   ]
  },
  {
   "cell_type": "code",
   "execution_count": 121,
   "metadata": {},
   "outputs": [],
   "source": [
    "def chunks(file, signal, rate, window_size, sliding=False, slide_window_size=0):\n",
    "    \n",
    "    data = []\n",
    "    label_ = []\n",
    "    chunk_size = rate*window_size\n",
    "    \n",
    "    if sliding == False:\n",
    "        \n",
    "        n_chunks = int(len(signal)/(chunk_size)) + 1\n",
    "        for i in range(n_chunks):\n",
    "                chunk = signal[int(i*chunk_size):int((i+1)*chunk_size)]\n",
    "                features = mfcc(chunk, rate, numcep = config.nfeat, nfilt = config.nfilt, nfft = config.nfft)\n",
    "                data.append(features)\n",
    "                label_.append(label(file))\n",
    "        return data, label_\n",
    "    \n",
    "    elif sliding == True:\n",
    "        \n",
    "        slide_size = rate*slide_window_size\n",
    "        n_chunks = int((len(signal)-chunk_size)/slide_size)\n",
    "        for i in range(n_chunks):\n",
    "            chunk = signal[int(i*slide_size) : int(chunk_size+(i*slide_size))]\n",
    "            features = mfcc(chunk, rate, numcep = config.nfeat, nfilt = config.nfilt, nfft = config.nfft)\n",
    "            data.append(features)\n",
    "            label_.append(label(file))\n",
    "        return data, label_"
   ]
  },
  {
   "cell_type": "markdown",
   "metadata": {},
   "source": [
    "# Creating chunk files:\n",
    "- Signal length corresponds to rate * no of seconds\n",
    "- Initially make chunks before mfcc, 0.5, 0.8, 1, 1.5, 2 sec\n",
    "- Chunk size = rate * window_length(in sec)\n",
    "- then try chunks after mfcc"
   ]
  },
  {
   "cell_type": "code",
   "execution_count": 122,
   "metadata": {},
   "outputs": [],
   "source": [
    "def load_data(window_size=0.5):\n",
    "    \n",
    "    data_test, data_train, target_test, target_train = [], [], [], []\n",
    "    for file in tqdm(os.listdir(path)):\n",
    "\n",
    "        signal, rate = librosa.load(os.path.join(path, file))\n",
    "        mask = envelope(signal, rate, config.envelope_threshold)\n",
    "        data, target = chunks(file, signal, rate, window_size, sliding=True, slide_window_size=0.1)\n",
    "\n",
    "        if file in config.val_files:\n",
    "            data_test.extend(data)\n",
    "            target_test.extend(target)\n",
    "        data_train.extend(data)\n",
    "        target_train.extend(target)\n",
    "\n",
    "    print(list(map(len, (data_train, target_train, data_test, target_test))))\n",
    "    return data_train, target_train, data_test, target_test"
   ]
  },
  {
   "cell_type": "code",
   "execution_count": 123,
   "metadata": {},
   "outputs": [
    {
     "data": {
      "application/vnd.jupyter.widget-view+json": {
       "model_id": "659a2373b5614d348075c3162c8613bd",
       "version_major": 2,
       "version_minor": 0
      },
      "text/plain": [
       "HBox(children=(IntProgress(value=0, max=70), HTML(value='')))"
      ]
     },
     "metadata": {},
     "output_type": "display_data"
    },
    {
     "name": "stdout",
     "output_type": "stream",
     "text": [
      "\n",
      "[6922, 6922, 798, 798]\n"
     ]
    }
   ],
   "source": [
    "data_train, target_train, data_test, target_test = load_data()"
   ]
  },
  {
   "cell_type": "code",
   "execution_count": 124,
   "metadata": {},
   "outputs": [],
   "source": [
    "class CNN(nn.Module):\n",
    "    def __init__(self):\n",
    "        super(CNN, self).__init__()      \n",
    "        self.conv = nn.Conv1d(13, 30, kernel_size = 20,stride = 1)\n",
    "        self.relu = nn.ReLU()\n",
    "        self.pool = nn.AdaptiveAvgPool1d(10)\n",
    "        self.fc = nn.Linear(300,30)\n",
    "    def forward(self, x):\n",
    "        out = self.conv(x)\n",
    "        out = self.relu(out)\n",
    "        out = self.pool(out)\n",
    "        out = out.view(-1, out.size(1)*out.size(2))\n",
    "        out = self.fc(out)\n",
    "        return out"
   ]
  },
  {
   "cell_type": "code",
   "execution_count": 125,
   "metadata": {},
   "outputs": [],
   "source": [
    "class Combine(nn.Module):\n",
    "    def __init__(self):\n",
    "        super(Combine, self).__init__()\n",
    "        self.cnn = CNN()\n",
    "        self.rnn = nn.LSTM(\n",
    "            input_size = 30, \n",
    "            hidden_size = 64, \n",
    "            num_layers = 2,\n",
    "            batch_first = True)\n",
    "        self.linear = nn.Linear(64,4)\n",
    "    def forward(self, x):\n",
    "        C, H, W = x.size()\n",
    "        c_in = x.view(1,W, C)  \n",
    "        c_out = self.cnn(c_in)\n",
    "        r_in = c_out.view(1, 1, -1)\n",
    "        r_out, (h_n, h_c) = self.rnn(r_in)\n",
    "        r_out2 = self.linear(r_out[:, -1, :])\n",
    "        a = F.log_softmax(r_out2, dim=1)\n",
    "        return a"
   ]
  },
  {
   "cell_type": "code",
   "execution_count": 126,
   "metadata": {},
   "outputs": [],
   "source": [
    "def get_data(data,target):\n",
    "\n",
    "    data = torch.from_numpy(np.asarray(data));\n",
    "    target = torch.from_numpy(array(target));\n",
    "    \n",
    "    return data,target"
   ]
  },
  {
   "cell_type": "code",
   "execution_count": 127,
   "metadata": {},
   "outputs": [],
   "source": [
    "def train(epoch):\n",
    "    \n",
    "    training_loss, correct, m = 0, 0, 0\n",
    "    model.train()\n",
    "    c = []\n",
    "    for i in range(1,len(data_train)+1):\n",
    "        c.append(i)\n",
    "    random.shuffle(c)\n",
    "    plt.show()\n",
    "\n",
    "    for i in tqdm(range(1,len(data_train)-1)): \n",
    "        data,target = get_data(data_train[c[i]-1],target_train[c[i]-1])\n",
    "\n",
    "        data = np.expand_dims(data, axis=1)\n",
    "        data = torch.FloatTensor(data)\n",
    "        \n",
    "        if config.cuda:\n",
    "            data, target = data.cuda(), target.cuda()\n",
    "         \n",
    "        data, target = Variable(data), Variable(target)\n",
    "        optimizer.zero_grad()\n",
    "        output = model(data)\n",
    "        target = target.long()\n",
    "        loss = F.nll_loss(output, target)\n",
    "        training_loss += loss.item()\n",
    "        loss.backward()\n",
    "        optimizer.step()        \n",
    "        \n",
    "        pred = output.data.max(1, keepdim=True)[1] \n",
    "        correct += pred.eq(target.data.view_as(pred)).long().cpu().sum()\n",
    "        m = m+1\n",
    "        \n",
    "    return training_loss/len(data_train), (correct*100/m)"
   ]
  },
  {
   "cell_type": "code",
   "execution_count": 128,
   "metadata": {},
   "outputs": [],
   "source": [
    "with torch.no_grad():\n",
    "    def test(epoch):\n",
    "        \n",
    "        model.eval()\n",
    "        test_loss = 0\n",
    "        correct = 0\n",
    "        m = 0\n",
    "        c = []\n",
    "        \n",
    "        for i in range(1,len(data_test)+1):\n",
    "            c.append(i)\n",
    "        random.shuffle(c)\n",
    "        \n",
    "        for i in range(1,len(data_test)-1):\n",
    "            data,target = get_data(data_test[c[i]-1],target_test[c[i]-1])\n",
    "            data = np.expand_dims(data, axis=1)\n",
    "            data = torch.FloatTensor(data)\n",
    "            if config.cuda:\n",
    "                data, target = data.cuda(), target.cuda()\n",
    "            data, target = Variable(data), Variable(target)\n",
    "            output = model(data)\n",
    "            target = target.long()\n",
    "            test_loss += F.nll_loss(output, target).sum().item()  \n",
    "            pred = output.data.max(1, keepdim=True)[1] \n",
    "            correct += pred.eq(target.data.view_as(pred)).long().cpu().sum()\n",
    "            m = m+1\n",
    "        \n",
    "        correct = correct.numpy()\n",
    "        return test_loss/len(data_test), (correct*100/m)"
   ]
  },
  {
   "cell_type": "code",
   "execution_count": 129,
   "metadata": {},
   "outputs": [],
   "source": [
    "def save_checkpoint(teacc, epoch, max_acc, ep_count):\n",
    "    if teacc>max_acc: \n",
    "        max_acc = teacc\n",
    "        ep_count = epoch\n",
    "        torch.save(model.state_dict(), '../models/checkpoint.pth' )\n",
    "    if epoch == config.epochs-1:\n",
    "        print('Max test accuracy {0:.{1}f}% obtained at epoch {2}'.format(max_acc, 2, ep_count))"
   ]
  },
  {
   "cell_type": "code",
   "execution_count": 130,
   "metadata": {},
   "outputs": [],
   "source": [
    "def plot_graphs(x, y, title):\n",
    "    plt.plot(x, label = 'train')\n",
    "    plt.legend()\n",
    "    plt.plot(y, label = 'test')\n",
    "    plt.legend()\n",
    "    plt.title(title)\n",
    "    plt.show()"
   ]
  },
  {
   "cell_type": "code",
   "execution_count": 131,
   "metadata": {},
   "outputs": [
    {
     "data": {
      "image/png": "[encoded data removed]",
      "text/plain": [
       "<Figure size 432x288 with 1 Axes>"
      ]
     },
     "metadata": {
      "needs_background": "light"
     },
     "output_type": "display_data"
    },
    {
     "data": {
      "image/png": "[encoded data removed]",
      "text/plain": [
       "<Figure size 432x288 with 1 Axes>"
      ]
     },
     "metadata": {
      "needs_background": "light"
     },
     "output_type": "display_data"
    },
    {
     "name": "stdout",
     "output_type": "stream",
     "text": [
      "Max test accuracy 98.49% obtained at epoch 29\n"
     ]
    }
   ],
   "source": [
    "max_acc = 0\n",
    "ep_count = 0\n",
    "\n",
    "def weights_init(m):\n",
    "    if isinstance(m, nn.Conv1d):\n",
    "        torch.nn.init.xavier_normal_(m.weight.data)\n",
    "        \n",
    "model = Combine()\n",
    "model.apply(weights_init)\n",
    "model.cuda()\n",
    "optimizer = torch.optim.Adam(model.parameters(), lr=config.lr, betas=(0.95,0.999))\n",
    "tr_loss, te_loss, tr_acc, te_acc = [], [], [], []\n",
    "\n",
    "for epoch in range(config.epochs):\n",
    "    trloss, tracc = train(epoch)\n",
    "    teloss, teacc = test(epoch)\n",
    "    tr_loss.append(trloss)\n",
    "    te_loss.append(teloss)\n",
    "    tr_acc.append(tracc)\n",
    "    te_acc.append(teacc)\n",
    "    clear_output()\n",
    "    plot_graphs(tr_loss, te_loss, 'loss')\n",
    "    plot_graphs(tr_acc, te_acc, 'accuracy')   \n",
    "    save_checkpoint(teacc, epoch, max_acc, ep_count)"
   ]
  },
  {
   "cell_type": "code",
   "execution_count": 40,
   "metadata": {},
   "outputs": [],
   "source": [
    "# torch.save(model.state_dict(), '../models/4class_chunks_1.5s.pth' )"
   ]
  },
  {
   "cell_type": "code",
   "execution_count": 132,
   "metadata": {},
   "outputs": [],
   "source": [
    "# model = Combine()\n",
    "# model.load_state_dict(torch.load('../models/checkpoint.pth'))\n",
    "# torch.save(model.state_dict(), '../models/4class_chunks_0.5s_0.1soverlap.pth' )"
   ]
  },
  {
   "cell_type": "code",
   "execution_count": null,
   "metadata": {},
   "outputs": [],
   "source": []
  }
 ],
 "metadata": {
  "kernelspec": {
   "display_name": "Python 3",
   "language": "python",
   "name": "python3"
  },
  "language_info": {
   "codemirror_mode": {
    "name": "ipython",
    "version": 3
   },
   "file_extension": ".py",
   "mimetype": "text/x-python",
   "name": "python",
   "nbconvert_exporter": "python",
   "pygments_lexer": "ipython3",
   "version": "3.6.8"
  }
 },
 "nbformat": 4,
 "nbformat_minor": 4
}
