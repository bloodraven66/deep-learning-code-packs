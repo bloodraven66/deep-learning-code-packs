{
 "cells": [
  {
   "cell_type": "code",
   "execution_count": 1,
   "metadata": {
    "_cell_guid": "b1076dfc-b9ad-4769-8c92-a6c4dae69d19",
    "_uuid": "8f2839f25d086af736a60e9eeb907d3b93b6e0e5"
   },
   "outputs": [
    {
     "name": "stderr",
     "output_type": "stream",
     "text": [
      "/opt/conda/lib/python3.6/site-packages/ipykernel_launcher.py:7: TqdmDeprecationWarning: This function will be removed in tqdm==5.0.0\n",
      "Please use `tqdm.notebook.*` instead of `tqdm._tqdm_notebook.*`\n",
      "  import sys\n",
      "Using TensorFlow backend.\n"
     ]
    }
   ],
   "source": [
    "import os\n",
    "import torch\n",
    "import random\n",
    "import numpy as np\n",
    "import pandas as pd\n",
    "from torch import nn\n",
    "from torch.utils import data\n",
    "from matplotlib import pyplot as plt\n",
    "from torch.nn import functional as F\n",
    "from IPython.display import clear_output\n",
    "from keras.preprocessing import text, sequence\n",
    "from tqdm._tqdm_notebook import tqdm_notebook as tqdm"
   ]
  },
  {
   "cell_type": "markdown",
   "metadata": {},
   "source": [
    "Code references: <br>many compenents from this code is taken from https://www.kaggle.com/bminixhofer/simple-lstm-pytorch-version\n",
    "<br>preprocess modulue from https://www.kaggle.com/gpreda/jigsaw-fast-compact-solution"
   ]
  },
  {
   "cell_type": "code",
   "execution_count": 2,
   "metadata": {
    "_cell_guid": "79c7e3d0-c299-4dcb-8224-4455121ee9b0",
    "_uuid": "d629ff2d2480ee46fbb7e2d37f6b5fab8052498a"
   },
   "outputs": [],
   "source": [
    "def seed_everything(seed=1234):\n",
    "    random.seed(seed)\n",
    "    os.environ['PYTHONHASHSEED'] = str(seed)\n",
    "    np.random.seed(seed)\n",
    "    torch.manual_seed(seed)\n",
    "    torch.cuda.manual_seed(seed)\n",
    "    torch.backends.cudnn.deterministic = True"
   ]
  },
  {
   "cell_type": "code",
   "execution_count": 4,
   "metadata": {},
   "outputs": [
    {
     "name": "stdout",
     "output_type": "stream",
     "text": [
      "--2020-04-20 06:54:15--  http://nlp.stanford.edu/data/glove.6B.zip\n",
      "Resolving nlp.stanford.edu (nlp.stanford.edu)... 171.64.67.140\n",
      "Connecting to nlp.stanford.edu (nlp.stanford.edu)|171.64.67.140|:80... connected.\n",
      "HTTP request sent, awaiting response... 302 Found\n",
      "Location: https://nlp.stanford.edu/data/glove.6B.zip [following]\n",
      "--2020-04-20 06:54:15--  https://nlp.stanford.edu/data/glove.6B.zip\n",
      "Connecting to nlp.stanford.edu (nlp.stanford.edu)|171.64.67.140|:443... connected.\n",
      "HTTP request sent, awaiting response... 301 Moved Permanently\n",
      "Location: http://downloads.cs.stanford.edu/nlp/data/glove.6B.zip [following]\n",
      "--2020-04-20 06:54:15--  http://downloads.cs.stanford.edu/nlp/data/glove.6B.zip\n",
      "Resolving downloads.cs.stanford.edu (downloads.cs.stanford.edu)... 171.64.64.22\n",
      "Connecting to downloads.cs.stanford.edu (downloads.cs.stanford.edu)|171.64.64.22|:80... connected.\n",
      "HTTP request sent, awaiting response... 200 OK\n",
      "Length: 862182613 (822M) [application/zip]\n",
      "Saving to: ‘glove.6B.zip’\n",
      "\n",
      "glove.6B.zip        100%[===================>] 822.24M  2.05MB/s    in 6m 29s  \n",
      "\n",
      "2020-04-20 07:00:44 (2.12 MB/s) - ‘glove.6B.zip’ saved [862182613/862182613]\n",
      "\n",
      "Archive:  glove.6B.zip\n",
      "  inflating: glove.6B.50d.txt        \n",
      "  inflating: glove.6B.100d.txt       \n",
      "  inflating: glove.6B.200d.txt       \n",
      "  inflating: glove.6B.300d.txt       \n"
     ]
    }
   ],
   "source": [
    "if os.path.exists('/kaggle/working/glove.6B.300d.txt')==False:\n",
    "    !wget http://nlp.stanford.edu/data/glove.6B.zip;\n",
    "    !unzip glove*.zip;\n",
    "    !rm -r glove.6B.zip;"
   ]
  },
  {
   "cell_type": "code",
   "execution_count": 86,
   "metadata": {},
   "outputs": [],
   "source": [
    "class Args():\n",
    "    def __init__(self):\n",
    "        self.glove_path = '/kaggle/working/glove.6B.300d.txt'\n",
    "        self.train_df = '../input/tweet-sentiment-extraction/train.csv'\n",
    "        self.test_df = '../input/tweet-sentiment-extraction/test.csv'\n",
    "        self.lstm_hidden = 32\n",
    "        self.linear = 64\n",
    "        self.max_len = 220\n",
    "        self.max_features = None\n",
    "args = Args()"
   ]
  },
  {
   "cell_type": "code",
   "execution_count": 87,
   "metadata": {},
   "outputs": [],
   "source": [
    "def get_coefs(word, *arr):\n",
    "    return word, np.asarray(arr, dtype='float32')\n",
    "\n",
    "def load_embeddings(path):\n",
    "    with open(path) as f:\n",
    "        return dict(get_coefs(*line.strip().split(' ')) for line in tqdm(f))\n",
    "\n",
    "def build_matrix(word_index, path, dim=300):\n",
    "    embedding_index = load_embeddings(path)\n",
    "    embedding_matrix = np.zeros((len(word_index) + 1, dim))\n",
    "    unknown_words = []\n",
    "    \n",
    "    for word, i in word_index.items():\n",
    "        try:\n",
    "            embedding_matrix[i] = embedding_index[word]\n",
    "        except KeyError:\n",
    "            unknown_words.append(word)\n",
    "    return embedding_matrix, unknown_words"
   ]
  },
  {
   "cell_type": "code",
   "execution_count": 88,
   "metadata": {},
   "outputs": [],
   "source": [
    "def preprocess(data):\n",
    "    punct = \"/-'?!.,#$%\\'()*+-/:;<=>@[\\\\]^_`{|}~`\" + '\"\"“”’' + '∞θ÷α•à−β∅³π‘₹´°£€\\×™√²—–&'\n",
    "    def clean_special_chars(text, punct):\n",
    "        for p in punct:\n",
    "            text = text.replace(p, ' ')\n",
    "        return text\n",
    "\n",
    "    data = data.astype(str).apply(lambda x: clean_special_chars(x, punct))\n",
    "    return data"
   ]
  },
  {
   "cell_type": "code",
   "execution_count": 89,
   "metadata": {},
   "outputs": [],
   "source": [
    "def get_max_length(X):\n",
    "    shapes = []\n",
    "    for i in range(len(X)):\n",
    "        shapes.append(len(X[i]))\n",
    "    return max(shapes)"
   ]
  },
  {
   "cell_type": "code",
   "execution_count": 90,
   "metadata": {},
   "outputs": [
    {
     "name": "stdout",
     "output_type": "stream",
     "text": [
      "35 32\n"
     ]
    }
   ],
   "source": [
    "train = pd.read_csv(args.train_df)\n",
    "test = pd.read_csv(args.test_df)\n",
    "\n",
    "x_train = preprocess(train['text'])\n",
    "y_train = np.where(train['sentiment'] == 'neutral', 0, np.where(train['sentiment'] == 'positive', 1, 2))\n",
    "x_test = preprocess(test['text'])\n",
    "y_test = np.where(test['sentiment'] == 'neutral', 0, np.where(test['sentiment'] == 'positive', 1, 2))\n",
    "\n",
    "tokenizer = text.Tokenizer()\n",
    "tokenizer.fit_on_texts(list(x_train) + list(x_test))\n",
    "\n",
    "x_train = tokenizer.texts_to_sequences(x_train)\n",
    "x_test = tokenizer.texts_to_sequences(x_test)\n",
    "print(get_max_length(x_train), get_max_length(x_test))\n",
    "args.max_len = max(get_max_length(x_train), get_max_length(x_test))\n",
    "x_train = sequence.pad_sequences(x_train, maxlen=args.max_len)\n",
    "x_test = sequence.pad_sequences(x_test, maxlen=args.max_len)"
   ]
  },
  {
   "cell_type": "code",
   "execution_count": 91,
   "metadata": {},
   "outputs": [
    {
     "data": {
      "text/plain": [
       "27898"
      ]
     },
     "execution_count": 91,
     "metadata": {},
     "output_type": "execute_result"
    }
   ],
   "source": [
    "args.max_features = args.max_features or len(tokenizer.word_index) + 1\n",
    "args.max_features"
   ]
  },
  {
   "cell_type": "code",
   "execution_count": 92,
   "metadata": {},
   "outputs": [
    {
     "data": {
      "application/vnd.jupyter.widget-view+json": {
       "model_id": "45c62241bf22414bbfa8527c648508f2",
       "version_major": 2,
       "version_minor": 0
      },
      "text/plain": [
       "HBox(children=(FloatProgress(value=1.0, bar_style='info', max=1.0), HTML(value='')))"
      ]
     },
     "metadata": {},
     "output_type": "display_data"
    },
    {
     "name": "stdout",
     "output_type": "stream",
     "text": [
      "\n",
      "n unknown words (glove):  8280\n"
     ]
    }
   ],
   "source": [
    "embedding_matrix, unknown_words_glove = build_matrix(tokenizer.word_index, args.glove_path)\n",
    "print('n unknown words (glove): ', len(unknown_words_glove))"
   ]
  },
  {
   "cell_type": "code",
   "execution_count": 93,
   "metadata": {},
   "outputs": [
    {
     "data": {
      "text/plain": [
       "73092"
      ]
     },
     "execution_count": 93,
     "metadata": {},
     "output_type": "execute_result"
    }
   ],
   "source": [
    "embedding_matrix.shape"
   ]
  },
  {
   "cell_type": "code",
   "execution_count": 94,
   "metadata": {},
   "outputs": [],
   "source": [
    "x_train_torch = torch.tensor(x_train, dtype=torch.long).cuda()\n",
    "y_train_torch = torch.tensor(y_train, dtype=torch.float32).cuda()\n",
    "x_test_torch = torch.tensor(x_test, dtype=torch.long).cuda()\n",
    "y_test_torch = torch.tensor(y_test, dtype=torch.float32).cuda()"
   ]
  },
  {
   "cell_type": "code",
   "execution_count": 95,
   "metadata": {},
   "outputs": [],
   "source": [
    "class SpatialDropout(nn.Dropout2d):\n",
    "    def forward(self, x):\n",
    "        x = x.unsqueeze(2)   \n",
    "        x = x.permute(0, 3, 2, 1)  \n",
    "        x = super(SpatialDropout, self).forward(x)  \n",
    "        x = x.permute(0, 3, 2, 1) \n",
    "        x = x.squeeze(2)  \n",
    "        return x\n",
    "    \n",
    "class LSTM(nn.Module):\n",
    "    def __init__(self, embedding_matrix, max_features=args.max_features, hidden=args.lstm_hidden, linear=args.linear):\n",
    "        super(LSTM, self).__init__()\n",
    "        embed_size = embedding_matrix.shape[1]\n",
    "        \n",
    "        self.embedding = nn.Embedding(max_features, embed_size)\n",
    "        self.embedding.weight = nn.Parameter(torch.tensor(embedding_matrix, dtype=torch.float32))\n",
    "        self.embedding.weight.requires_grad = False\n",
    "        self.embedding_dropout = SpatialDropout(0.3)\n",
    "        \n",
    "        self.lstm = nn.LSTM(embed_size, hidden, bidirectional=False, batch_first=True)\n",
    "        self.linear_out = nn.Linear(1120, 3)\n",
    "        \n",
    "    def forward(self, x):\n",
    "        out = self.embedding(x)\n",
    "        out = self.embedding_dropout(out) \n",
    "        out, _ = self.lstm(out)\n",
    "        out = out.reshape(out.shape[0], out.shape[1]*out.shape[2])\n",
    "        out = self.linear_out(out)\n",
    "        return F.log_softmax(out)"
   ]
  },
  {
   "cell_type": "code",
   "execution_count": 102,
   "metadata": {},
   "outputs": [],
   "source": [
    "def iterator(epoch, model, loader, criterion=nn.NLLLoss(), lr=0.01, scheduler=True, mode='train'):\n",
    "    optimizer = torch.optim.Adam(model.parameters(), lr=lr)\n",
    "    if scheduler:\n",
    "        scheduler = torch.optim.lr_scheduler.LambdaLR(optimizer, lambda epoch: 0.6 ** epoch)\n",
    "        scheduler.step()\n",
    "    if mode == 'test':\n",
    "        model.eval()\n",
    "    elif mode == 'train':\n",
    "        model.train()\n",
    "    loss_ = 0\n",
    "    correct_ = 0\n",
    "    for data_ in tqdm(loader, disable=False):  \n",
    "        data = data_[:-1]\n",
    "        target = data_[-1].long()\n",
    "        output = model(*data)\n",
    "        loss = criterion(output, target)\n",
    "        loss_ += loss.item()\n",
    "        softmax_output = torch.exp(output)\n",
    "        top_p, top_class = softmax_output.topk(1, dim=1)\n",
    "        equals = top_class == target.view(*top_class.shape)\n",
    "        correct_ += torch.mean(equals.type(torch.FloatTensor)).item()\n",
    "        if mode=='train':\n",
    "            optimizer.zero_grad()\n",
    "            loss.backward()\n",
    "            optimizer.step()\n",
    "    return loss_/len(loader), correct_/len(loader)"
   ]
  },
  {
   "cell_type": "code",
   "execution_count": 103,
   "metadata": {},
   "outputs": [],
   "source": [
    "def plot(metrics):\n",
    "    clear_output()\n",
    "    fig = plt.figure(figsize=(20,4))\n",
    "    ax1 = fig.add_subplot(121)\n",
    "    ax2 = fig.add_subplot(122)\n",
    "    \n",
    "    for key in metrics.keys():\n",
    "        if key.endswith('loss'):\n",
    "            ax1.plot(metrics[key], label=key[:-5])\n",
    "            ax1.set_title(key[5:])\n",
    "            ax1.legend()\n",
    "        else:\n",
    "            ax2.plot(metrics[key], label=key[:-9])\n",
    "            ax2.set_title(key[5:])\n",
    "            ax2.legend()\n",
    "    plt.show()    "
   ]
  },
  {
   "cell_type": "code",
   "execution_count": 106,
   "metadata": {},
   "outputs": [
    {
     "data": {
      "image/png": "[encoded data removed]",
      "text/plain": [
       "<Figure size 1440x288 with 2 Axes>"
      ]
     },
     "metadata": {
      "needs_background": "light"
     },
     "output_type": "display_data"
    }
   ],
   "source": [
    "train_dataset = data.TensorDataset(x_train_torch, y_train_torch)\n",
    "test_dataset = data.TensorDataset(x_test_torch, y_test_torch)\n",
    "train_loader = torch.utils.data.DataLoader(train_dataset, batch_size=512, shuffle=True)\n",
    "test_loader = torch.utils.data.DataLoader(test_dataset, batch_size=4, shuffle=False)\n",
    "metrics = {'train_loss':[],'train_accuracy':[], 'test_loss':[], 'test_accuracy':[]}\n",
    "training_loss = []\n",
    "training_accuracy = []\n",
    "model = LSTM(embedding_matrix)\n",
    "model.cuda()\n",
    "criterion = nn.NLLLoss()\n",
    "for i in range(5):\n",
    "    seed_everything(0)\n",
    "    loss_, acc_ = iterator(i, model, train_loader, criterion, lr=0.01, scheduler=False)\n",
    "    metrics['train_loss'].append(loss_)\n",
    "    metrics['train_accuracy'].append(acc_)\n",
    "    loss_, acc_ = iterator(i, model, test_loader, scheduler=False, mode='test')\n",
    "    metrics['test_loss'].append(loss_)\n",
    "    metrics['test_accuracy'].append(acc_)\n",
    "    plot(metrics) "
   ]
  },
  {
   "cell_type": "code",
   "execution_count": null,
   "metadata": {},
   "outputs": [],
   "source": []
  }
 ],
 "metadata": {
  "kernelspec": {
   "display_name": "Python 3",
   "language": "python",
   "name": "python3"
  },
  "language_info": {
   "codemirror_mode": {
    "name": "ipython",
    "version": 3
   },
   "file_extension": ".py",
   "mimetype": "text/x-python",
   "name": "python",
   "nbconvert_exporter": "python",
   "pygments_lexer": "ipython3",
   "version": "3.6.9"
  }
 },
 "nbformat": 4,
 "nbformat_minor": 4
}
