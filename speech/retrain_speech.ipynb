{
 "cells": [
  {
   "cell_type": "code",
   "execution_count": 63,
   "metadata": {},
   "outputs": [],
   "source": [
    "%matplotlib inline\n",
    "import os\n",
    "import sys\n",
    "import time\n",
    "import torch\n",
    "import pickle\n",
    "import librosa\n",
    "import numpy as np\n",
    "import torch.nn as nn\n",
    "import librosa.display\n",
    "import torch.nn.functional as F\n",
    "import ipywidgets as widgets\n",
    "import torch.utils.data as utils\n",
    "from ipywidgets import Output\n",
    "import IPython.display as ipd\n",
    "import matplotlib.pyplot as plt\n",
    "from tqdm import tqdm_notebook as tqdm\n",
    "from python_speech_features import mfcc\n",
    "from IPython.display import display, clear_output"
   ]
  },
  {
   "cell_type": "code",
   "execution_count": 64,
   "metadata": {},
   "outputs": [],
   "source": [
    "class Process():\n",
    "    \n",
    "    def __init__(self, file_name='???.pickle'):\n",
    "        self.path = ''\n",
    "        self.labels = []\n",
    "        self.dump_name = file_name\n",
    "        self.signal = []\n",
    "        self.out = Output()\n",
    "        self.count = 0\n",
    "        self.sr = 22050\n",
    "        self.nfilt = 26 \n",
    "        self.nfeat = 13\n",
    "        self.nfft = 2205\n",
    "        self.window_size = 1\n",
    "        self.sliding=True\n",
    "        self.slide_window_size = 0.5\n",
    "        self.data = {}\n",
    "    \n",
    "    def load_data(self, dump=False, old=False):\n",
    "        if not old:\n",
    "            print('Labels loaded')\n",
    "            print('Loading voice files..')\n",
    "            for folder in os.listdir(self.path):\n",
    "                class_count = 0\n",
    "                class_time = 0\n",
    "                for file in tqdm(os.listdir(os.path.join(self.path, folder))):\n",
    "                    if file.endswith('.wav'):\n",
    "                        y, sr = librosa.load(os.path.join(self.path, folder, file))\n",
    "                        class_time += len(y)/sr\n",
    "                        data_, label = self.chunks(folder=folder,\n",
    "                                            signal=y, \n",
    "                                            rate=sr, \n",
    "                                            window_size=self.window_size, \n",
    "                                            sliding=self.sliding, \n",
    "                                            slide_window_size=self.slide_window_size)\n",
    "                        class_count += len(data_)\n",
    "                        self.data[file] = [data_, label]\n",
    "                print('Total chunks in class:',class_count)\n",
    "                print('Total duration of class: {}:{:.02f}sec'.format(int(class_time/60), class_time%60))\n",
    "            if dump:\n",
    "                with open(self.dump_name, 'wb') as handle:\n",
    "                    pickle.dump(self.data, handle, protocol=pickle.HIGHEST_PROTOCOL)\n",
    "        else: \n",
    "              self.data_stats()\n",
    "        return self.data   \n",
    "    \n",
    "    def plot_data(self):\n",
    "        plt.figure(figsize=(14, 5))\n",
    "        librosa.display.waveplot(y, sr=sr)\n",
    "\n",
    "        Ydb = librosa.amplitude_to_db(abs(librosa.stft(y)))\n",
    "        plt.figure(figsize=(14, 5))\n",
    "        librosa.display.specshow(Ydb, sr=sr, x_axis='time', y_axis='hz')\n",
    "    \n",
    "    def play_data(self):\n",
    "        button = widgets.Button(description=\"Next\")\n",
    "        display(button)\n",
    "        \n",
    "        display(self.out)\n",
    "        button.on_click(self.play_data_button)    \n",
    "    \n",
    "    def chunks(self, folder, signal, rate, window_size, sliding=False, slide_window_size=0):\n",
    "        data = []\n",
    "        label = []\n",
    "        chunk_size = rate*window_size\n",
    "        if sliding == False:\n",
    "            n_chunks = int(len(signal)/(chunk_size)) + 1\n",
    "            for i in range(n_chunks):\n",
    "                    chunk = signal[int(i*chunk_size):int((i+1)*chunk_size)]\n",
    "                    features = mfcc(chunk, rate, numcep = self.nfeat, nfilt = self.nfilt, nfft = self.nfft)\n",
    "                    data.append(features)\n",
    "                    label.append(self.labels.index(folder))\n",
    "            return data, label\n",
    "        elif sliding == True: \n",
    "            slide_size = rate*slide_window_size\n",
    "            n_chunks = int((len(signal)-chunk_size)/slide_size)\n",
    "            for i in range(n_chunks):\n",
    "                chunk = signal[int(i*slide_size) : int(chunk_size+(i*slide_size))]\n",
    "                features = mfcc(chunk, rate, numcep = self.nfeat, nfilt = self.nfilt, nfft = self.nfft)\n",
    "                data.append(features)\n",
    "                label.append(self.labels.index(folder))\n",
    "            return data, label\n",
    "        \n",
    "    def data_stats(self):   \n",
    "        if self.data == {}:\n",
    "            print('Loading pickle file..\\n')\n",
    "            with open(self.dump_name, 'rb') as handle:\n",
    "                self.data = pickle.load(handle)\n",
    "        val = [len(d) for d in self.data.values()]\n",
    "        print('Chunk duration: {} sec'.format(self.window_size))\n",
    "        print('Slide duration: {} sec'.format(self.slide_window_size))\n",
    "        print('Sample rate: {} Hz'.format(self.sr))\n",
    "        print('No of chunks: {}'.format(sum(val)))\n",
    "        print('Data SD: {:0.2f}'.format(np.std(val)))\n",
    "        print('Chunk length: {}'.format(len(list(self.data.values())[0][0])))\n",
    "        del val\n",
    "        \n",
    "        \n",
    "process = Process()"
   ]
  },
  {
   "cell_type": "code",
   "execution_count": 65,
   "metadata": {},
   "outputs": [
    {
     "name": "stdout",
     "output_type": "stream",
     "text": [
      "Labels loaded\n",
      "Loading voice files..\n"
     ]
    },
    {
     "name": "stderr",
     "output_type": "stream",
     "text": [
      "/home/innocirc/.local/lib/python3.6/site-packages/ipykernel_launcher.py:27: TqdmDeprecationWarning: This function will be removed in tqdm==5.0.0\n",
      "Please use `tqdm.notebook.tqdm` instead of `tqdm.tqdm_notebook`\n"
     ]
    },
    {
     "data": {
      "application/vnd.jupyter.widget-view+json": {
       "model_id": "c20fcced5f324a439fcb5b95ead36ab6",
       "version_major": 2,
       "version_minor": 0
      },
      "text/plain": [
       "HBox(children=(IntProgress(value=0, max=7), HTML(value='')))"
      ]
     },
     "metadata": {},
     "output_type": "display_data"
    },
    {
     "name": "stdout",
     "output_type": "stream",
     "text": [
      "\n",
      "Total chunks in class: 893\n",
      "Total duration of class: 7:34.21sec\n"
     ]
    },
    {
     "data": {
      "application/vnd.jupyter.widget-view+json": {
       "model_id": "fc927acd6d3e42ccb5e406e841b3f7e2",
       "version_major": 2,
       "version_minor": 0
      },
      "text/plain": [
       "HBox(children=(IntProgress(value=0, max=4), HTML(value='')))"
      ]
     },
     "metadata": {},
     "output_type": "display_data"
    },
    {
     "name": "stdout",
     "output_type": "stream",
     "text": [
      "\n",
      "Total chunks in class: 676\n",
      "Total duration of class: 5:43.15sec\n"
     ]
    }
   ],
   "source": [
    "data = process.load_data(dump=True)"
   ]
  },
  {
   "cell_type": "code",
   "execution_count": 66,
   "metadata": {},
   "outputs": [],
   "source": [
    "class EncoderRNN(nn.Module):\n",
    "    \n",
    "    def __init__(self, input_size, hidden_size, num_layers, dropout = 0):\n",
    "        super(EncoderRNN, self).__init__()\n",
    "        \n",
    "        self.lstm = nn.LSTM(\n",
    "            input_size = input_size, \n",
    "            hidden_size = hidden_size, \n",
    "            num_layers = num_layers,\n",
    "            batch_first = True)\n",
    "        self.relu = nn.ReLU()\n",
    "\n",
    "    def forward(self, x):\n",
    "        x = self.lstm(x)\n",
    "        return self.relu(x[0])\n",
    "class DecoderRNN(nn.Module):\n",
    "    \n",
    "    def __init__(self, hidden_size, num_layers, input_size):\n",
    "        super(DecoderRNN, self).__init__()\n",
    "        self.linear = nn.Linear(input_size, hidden_size)\n",
    "        self.lstm = nn.LSTM(\n",
    "            input_size = input_size, \n",
    "            hidden_size = hidden_size, \n",
    "            num_layers = num_layers,\n",
    "            batch_first = True)\n",
    "        self.sigmoid = nn.Sigmoid()\n",
    "\n",
    "    def forward(self, encoded_input):\n",
    "        decoded_output, hidden = self.lstm(encoded_input)\n",
    "        decoded_output = self.sigmoid(decoded_output)\n",
    "        return decoded_output"
   ]
  },
  {
   "cell_type": "code",
   "execution_count": 67,
   "metadata": {},
   "outputs": [],
   "source": [
    "class LSTMAutoEncoder(nn.Module):\n",
    "    \n",
    "    def __init__(self, input_size=99, hidden_size=512, num_layers=2, cuda=True):\n",
    "        super(LSTMAutoEncoder, self).__init__()\n",
    "        self.encoder = EncoderRNN(input_size, hidden_size, num_layers)\n",
    "        self.linear = nn.Linear(512, 64)\n",
    "        self.decoder = DecoderRNN(hidden_size=99, input_size=64, num_layers=num_layers)\n",
    "         \n",
    "        if cuda:\n",
    "            self.encoder = self.encoder.cuda()\n",
    "            self.decoder = self.decoder.cuda()\n",
    "\n",
    "    def forward(self, input):\n",
    "        input = self.encoder(input)\n",
    "        decoded_output = self.decoder(self.linear(input))\n",
    "        return decoded_output"
   ]
  },
  {
   "cell_type": "code",
   "execution_count": 68,
   "metadata": {},
   "outputs": [],
   "source": [
    "model = LSTMAutoEncoder(cuda=False).double()"
   ]
  },
  {
   "cell_type": "code",
   "execution_count": 70,
   "metadata": {},
   "outputs": [
    {
     "data": {
      "text/plain": [
       "nextModel(\n",
       "  (encoder): EncoderRNN(\n",
       "    (lstm): LSTM(99, 512, num_layers=2, batch_first=True)\n",
       "    (relu): ReLU()\n",
       "  )\n",
       "  (linear): Linear(in_features=512, out_features=2, bias=True)\n",
       ")"
      ]
     },
     "execution_count": 70,
     "metadata": {},
     "output_type": "execute_result"
    }
   ],
   "source": [
    "class nextModel(nn.Module):\n",
    "    \n",
    "    def __init__(self):\n",
    "        super(nextModel, self).__init__()\n",
    "        self.encoder = model.encoder\n",
    "        self.linear = nn.Linear(512, 2)\n",
    "\n",
    "    def forward(self, x):\n",
    "        x = self.encoder(x)\n",
    "        return F.log_softmax(r_out2, dim=1)\n",
    "newModel = nextModel()\n",
    "newModel.to('cuda:0')\n",
    "newModel.double()"
   ]
  },
  {
   "cell_type": "code",
   "execution_count": 71,
   "metadata": {},
   "outputs": [],
   "source": [
    "def retrain(model, train_loader):\n",
    "    total_loss = 0\n",
    "    count  = 0\n",
    "    for [data_, label_] in tqdm(train_loader):\n",
    "\n",
    "        data_ = torch.from_numpy(np.array(data_))\n",
    "        label_ = torch.from_numpy(np.array(label_))\n",
    "        data_ = data_.double()       \n",
    "        data_ = data_.view(data_.shape[0], data_.shape[2], data_.shape[1])\n",
    "        data_ = data_.cuda()\n",
    "        label_ = label_.cuda()\n",
    "        out = model(data_)  \n",
    "\n",
    "        loss = nll_loss(out, label_)\n",
    "        count += 1\n",
    "        total_loss += loss.sum().item()\n",
    "        loss.backward(retain_graph=True)     \n",
    "        optimizer.step()\n",
    "    return total_loss/count"
   ]
  },
  {
   "cell_type": "code",
   "execution_count": 72,
   "metadata": {},
   "outputs": [],
   "source": [
    "data_train, target_train = [], []\n",
    "[data_train.extend((list(data.values()))[i][0]) for i in range(np.array(list(data.values())).shape[0])];\n",
    "[target_train.extend((list(data.values()))[i][1]) for i in range(np.array(list(data.values())).shape[0])];\n",
    "\n",
    "speech_dataset = utils.TensorDataset(torch.from_numpy(np.array(data_train)),torch.from_numpy(np.array(target_train)))\n",
    "train_loader = torch.utils.data.DataLoader(speech_dataset, batch_size=16, shuffle=True)\n",
    "\n",
    "nll_loss = nn.NLLLoss()\n",
    "optimizer = torch.optim.Adam(newModel.parameters(), lr=0.00001, betas=(0.9,0.999))\n",
    "loss = []\n",
    "def plot_graphs(x):\n",
    "    plt.plot(x, label = 'train')\n",
    "    plt.legend()\n",
    "    plt.show()"
   ]
  },
  {
   "cell_type": "code",
   "execution_count": 73,
   "metadata": {},
   "outputs": [
    {
     "data": {
      "image/png": "[encoded data removed]",
      "text/plain": [
       "<Figure size 432x288 with 1 Axes>"
      ]
     },
     "metadata": {
      "needs_background": "light"
     },
     "output_type": "display_data"
    },
    {
     "data": {
      "application/vnd.jupyter.widget-view+json": {
       "model_id": "24f269481de840099f8e656ad6b3c374",
       "version_major": 2,
       "version_minor": 0
      },
      "text/plain": [
       "HBox(children=(IntProgress(value=0, max=99), HTML(value='')))"
      ]
     },
     "metadata": {},
     "output_type": "display_data"
    },
    {
     "ename": "KeyboardInterrupt",
     "evalue": "",
     "output_type": "error",
     "traceback": [
      "\u001b[0;31m---------------------------------------------------------------------------\u001b[0m",
      "\u001b[0;31mKeyboardInterrupt\u001b[0m                         Traceback (most recent call last)",
      "\u001b[0;32m<ipython-input-73-fe900be3422f>\u001b[0m in \u001b[0;36m<module>\u001b[0;34m\u001b[0m\n\u001b[1;32m      2\u001b[0m \u001b[0mdecreasing_losses\u001b[0m \u001b[0;34m=\u001b[0m \u001b[0;34m[\u001b[0m\u001b[0;34m]\u001b[0m\u001b[0;34m\u001b[0m\u001b[0;34m\u001b[0m\u001b[0m\n\u001b[1;32m      3\u001b[0m \u001b[0;32mfor\u001b[0m \u001b[0mepoch\u001b[0m \u001b[0;32min\u001b[0m \u001b[0mrange\u001b[0m\u001b[0;34m(\u001b[0m\u001b[0mno_epochs\u001b[0m\u001b[0;34m)\u001b[0m\u001b[0;34m:\u001b[0m\u001b[0;34m\u001b[0m\u001b[0;34m\u001b[0m\u001b[0m\n\u001b[0;32m----> 4\u001b[0;31m     \u001b[0mloss\u001b[0m\u001b[0;34m.\u001b[0m\u001b[0mappend\u001b[0m\u001b[0;34m(\u001b[0m\u001b[0mretrain\u001b[0m\u001b[0;34m(\u001b[0m\u001b[0mnewModel\u001b[0m\u001b[0;34m,\u001b[0m \u001b[0mtrain_loader\u001b[0m\u001b[0;34m)\u001b[0m\u001b[0;34m)\u001b[0m\u001b[0;34m\u001b[0m\u001b[0;34m\u001b[0m\u001b[0m\n\u001b[0m\u001b[1;32m      5\u001b[0m     \u001b[0;32mif\u001b[0m \u001b[0mepoch\u001b[0m \u001b[0;34m==\u001b[0m \u001b[0;36m0\u001b[0m\u001b[0;34m:\u001b[0m\u001b[0;34m\u001b[0m\u001b[0;34m\u001b[0m\u001b[0m\n\u001b[1;32m      6\u001b[0m         \u001b[0mloss_\u001b[0m \u001b[0;34m=\u001b[0m \u001b[0mloss\u001b[0m\u001b[0;34m[\u001b[0m\u001b[0;36m0\u001b[0m\u001b[0;34m]\u001b[0m\u001b[0;34m\u001b[0m\u001b[0;34m\u001b[0m\u001b[0m\n",
      "\u001b[0;32m<ipython-input-71-4bffb943d700>\u001b[0m in \u001b[0;36mretrain\u001b[0;34m(model, train_loader)\u001b[0m\n\u001b[1;32m      8\u001b[0m         \u001b[0mdata_\u001b[0m \u001b[0;34m=\u001b[0m \u001b[0mdata_\u001b[0m\u001b[0;34m.\u001b[0m\u001b[0mdouble\u001b[0m\u001b[0;34m(\u001b[0m\u001b[0;34m)\u001b[0m\u001b[0;34m\u001b[0m\u001b[0;34m\u001b[0m\u001b[0m\n\u001b[1;32m      9\u001b[0m         \u001b[0mdata_\u001b[0m \u001b[0;34m=\u001b[0m \u001b[0mdata_\u001b[0m\u001b[0;34m.\u001b[0m\u001b[0mview\u001b[0m\u001b[0;34m(\u001b[0m\u001b[0mdata_\u001b[0m\u001b[0;34m.\u001b[0m\u001b[0mshape\u001b[0m\u001b[0;34m[\u001b[0m\u001b[0;36m0\u001b[0m\u001b[0;34m]\u001b[0m\u001b[0;34m,\u001b[0m \u001b[0mdata_\u001b[0m\u001b[0;34m.\u001b[0m\u001b[0mshape\u001b[0m\u001b[0;34m[\u001b[0m\u001b[0;36m2\u001b[0m\u001b[0;34m]\u001b[0m\u001b[0;34m,\u001b[0m \u001b[0mdata_\u001b[0m\u001b[0;34m.\u001b[0m\u001b[0mshape\u001b[0m\u001b[0;34m[\u001b[0m\u001b[0;36m1\u001b[0m\u001b[0;34m]\u001b[0m\u001b[0;34m)\u001b[0m\u001b[0;34m\u001b[0m\u001b[0;34m\u001b[0m\u001b[0m\n\u001b[0;32m---> 10\u001b[0;31m         \u001b[0mdata_\u001b[0m \u001b[0;34m=\u001b[0m \u001b[0mdata_\u001b[0m\u001b[0;34m.\u001b[0m\u001b[0mcuda\u001b[0m\u001b[0;34m(\u001b[0m\u001b[0;34m)\u001b[0m\u001b[0;34m\u001b[0m\u001b[0;34m\u001b[0m\u001b[0m\n\u001b[0m\u001b[1;32m     11\u001b[0m         \u001b[0mlabel_\u001b[0m \u001b[0;34m=\u001b[0m \u001b[0mlabel_\u001b[0m\u001b[0;34m.\u001b[0m\u001b[0mcuda\u001b[0m\u001b[0;34m(\u001b[0m\u001b[0;34m)\u001b[0m\u001b[0;34m\u001b[0m\u001b[0;34m\u001b[0m\u001b[0m\n\u001b[1;32m     12\u001b[0m         \u001b[0mout\u001b[0m \u001b[0;34m=\u001b[0m \u001b[0mmodel\u001b[0m\u001b[0;34m(\u001b[0m\u001b[0mdata_\u001b[0m\u001b[0;34m)\u001b[0m\u001b[0;34m\u001b[0m\u001b[0;34m\u001b[0m\u001b[0m\n",
      "\u001b[0;31mKeyboardInterrupt\u001b[0m: "
     ]
    }
   ],
   "source": [
    "no_epochs=50\n",
    "decreasing_losses = []\n",
    "for epoch in range(no_epochs):\n",
    "    loss.append(retrain(newModel, train_loader))\n",
    "    if epoch == 0:\n",
    "        loss_ = loss[0]\n",
    "    if epoch>0 and loss[epoch]<loss_:\n",
    "        loss_ = loss[epoch]\n",
    "        decreasing_losses.append(loss_)\n",
    "        torch.save(model.state_dict(), \"../models/stutter_checkpoint_mar16_loss.pth\")\n",
    "        \n",
    "    clear_output()\n",
    "    plot_graphs(loss)\n",
    "    "
   ]
  }
 ],
 "metadata": {
  "kernelspec": {
   "display_name": "Python 3",
   "language": "python",
   "name": "python3"
  },
  "language_info": {
   "codemirror_mode": {
    "name": "ipython",
    "version": 3
   },
   "file_extension": ".py",
   "mimetype": "text/x-python",
   "name": "python",
   "nbconvert_exporter": "python",
   "pygments_lexer": "ipython3",
   "version": "3.6.9"
  }
 },
 "nbformat": 4,
 "nbformat_minor": 4
}
